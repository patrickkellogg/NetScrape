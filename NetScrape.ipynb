{
 "cells": [
  {
   "cell_type": "markdown",
   "metadata": {
    "collapsed": false
   },
   "source": [
    "# NetScrape\n",
    "\n",
    "Save all my ratings on Netflix"
   ]
  },
  {
   "cell_type": "code",
   "execution_count": null,
   "metadata": {
    "collapsed": false
   },
   "outputs": [],
   "source": [
    "from robobrowser import RoboBrowser\n",
    "from bs4 import BeautifulSoup as bs\n",
    "import os, csv\n",
    "import time\n",
    "import re\n",
    "\n",
    "browser = RoboBrowser(parser=\"lxml\")\n",
    "login_url = 'file:///Users/mudcub/Dropbox/Projects/NetScrape/MyNetflixRatings.html'\n",
    "browser.open(login_url)\n",
    "formlogin = browser.get_form(action=\"https://dvd.netflix.com/Login\")\n",
    "formlogin['email'].value = 'patrickkellogg@gmail.com' \n",
    "formlogin['password'].value = 'password'\n",
    "browser.submit_form(formlogin)\n",
    "\n",
    "myform = browser.open('https://www.netflix.com/MoviesYouveSeen')\n",
    "\n",
    "soup = browser.parsed"
   ]
  },
  {
   "cell_type": "code",
   "execution_count": null,
   "metadata": {
    "collapsed": false
   },
   "outputs": [],
   "source": [
    "#https://www.netflix.com/MoviesYouveSeen\n",
    "print(soup.prettify())\n"
   ]
  },
  {
   "cell_type": "code",
   "execution_count": null,
   "metadata": {
    "collapsed": false
   },
   "outputs": [],
   "source": [
    "souptable = soup.find(\"ul\", class_=\"structural retable stdHeight\")\n",
    "#print(souptable.prettify())\n",
    "namelist = souptable.find_all(href=True)\n",
    "#print(namelist)\n",
    "\n",
    "fullist = []\n",
    "for film in namelist:\n",
    "    fullist.append(film.get_text())\n",
    "#print(fullist)\n",
    "\n",
    "starlist = souptable.find_all(class_=\"starbar hasClearRating lightBackground readOnly verticalCenter\")\n",
    "mylist = []\n",
    "#print(starlist)\n",
    "#rating = starlist[0]\n",
    "#if 1:\n",
    "for rating in starlist:\n",
    "    testrat = str(rating)\n",
    "#    print(testrat)\n",
    "    if (re.search('span class=\"star personal icon-star\" data-rating=\"5\"', testrat)):\n",
    "        mylist.append(\"5\")\n",
    "    elif (re.search('span class=\"star personal icon-star\" data-rating=\"4\"', testrat)):\n",
    "        mylist.append(\"4\")\n",
    "    elif (re.search('span class=\"star personal icon-star\" data-rating=\"3\"', testrat)):\n",
    "        mylist.append(\"3\")\n",
    "    elif (re.search('span class=\"star personal icon-star\" data-rating=\"2\"', testrat)):\n",
    "        mylist.append(\"2\")\n",
    "    elif (re.search('span class=\"star personal icon-star\" data-rating=\"1\"', testrat)):\n",
    "        mylist.append(\"1\")\n",
    "    else:\n",
    "        mylist.append(\"0\")\n",
    "        \n",
    "#    if not re.search(\"class=\\\"star sb-placeholder icon-star\\\" data-rating=\\\"1\\\"\", testrat):\n",
    "#        mylist.append(\"5\")\n",
    "#    elif not re.search(\"class=\\\"star sb-placeholder icon-star\\\" data-rating=\\\"2\\\"\", testrat):\n",
    "#        mylist.append(\"4\")\n",
    "#    elif not re.search(\"class=\\\"star sb-placeholder icon-star\\\" data-rating=\\\"3\\\"\", testrat):\n",
    "#        mylist.append(\"3\")\n",
    "#    elif not re.search(\"class=\\\"star sb-placeholder icon-star\\\" data-rating=\\\"4\\\"\", testrat):\n",
    "#        mylist.append(\"2\")\n",
    "#    elif not re.search(\"class=\\\"star sb-placeholder icon-star\\\" data-rating=\\\"5\\\"\", testrat):\n",
    "#        mylist.append(\"1\")\n",
    "#    else:\n",
    "#        mylist.append(\"0\")\n",
    "#    mylist.append(rating['data-rating'])\n",
    "print(mylist)\n",
    "\n",
    "#for line in file:\n",
    "#     if re.search(sys.argv[1], line):\n",
    "#         print line,\n",
    "#souplinks = souptable.find_all(href=True)\n",
    "#mylinks = []\n",
    "#myx = []\n",
    "#myy = []\n",
    "#for link in souplinks:\n",
    "#        tester = str(link)\n",
    "#        if re.search('<b>', tester):\n",
    "#            mylinks.append(link)\n",
    "#for finalit in mylinks:\n",
    "#        partme = finalit.get('href')\n",
    "#        myx.append(\"http://www.website.com/stories/\" + partme)\n",
    "#        myy.append(finalit.get_text())"
   ]
  },
  {
   "cell_type": "code",
   "execution_count": null,
   "metadata": {
    "collapsed": false
   },
   "outputs": [],
   "source": [
    "print(starlist)\n",
    "#print(namelist.prettify())\n",
    "#print(souptable.prettify())\n",
    "#print(starlist[0])\n"
   ]
  },
  {
   "cell_type": "code",
   "execution_count": null,
   "metadata": {
    "collapsed": false
   },
   "outputs": [],
   "source": [
    "os.chdir(\"/Users/Mudcub/Dropbox/English/\")\n",
    "         \n",
    "#for x in range(0, 2):\n",
    "for x in range(0, len(myx)):\n",
    "    mynext = str(myx[x])\n",
    "    #print(mynext)\n",
    "    nextstory = browser.open(mynext)\n",
    "    soup = browser.parsed\n",
    "    mytest = soup.find('td', class_='heading')\n",
    "    if mytest is None:\n",
    "        print(\"Not found\")\n",
    "    else:\n",
    "        mytitle = myy[x]\n",
    "        myfile = mytitle + \".txt\"\n",
    "        myfile = myfile.replace(\"\\\\\", \" \")\n",
    "        myfile = myfile.replace(\"/\", \" \")\n",
    "        print(myfile)\n",
    "        myname = soup.find('td', class_='mainsmall').get_text()\n",
    "        mytext = soup.find('td', class_='main').get_text()\n",
    "        #print(mytext)\n",
    "        outfile = open(myfile, 'w')\n",
    "        outfile.write(myname)\n",
    "        outfile.write(\"\\n\\r\")\n",
    "        outfile.write(mytitle)\n",
    "        outfile.write(\"\\n\\r\")\n",
    "        outfile.write(mytext)\n",
    "        outfile.close()       \n",
    "        time.sleep(1)"
   ]
  },
  {
   "cell_type": "code",
   "execution_count": null,
   "metadata": {
    "collapsed": false
   },
   "outputs": [],
   "source": []
  },
  {
   "cell_type": "code",
   "execution_count": null,
   "metadata": {
    "collapsed": true
   },
   "outputs": [],
   "source": []
  },
  {
   "cell_type": "code",
   "execution_count": null,
   "metadata": {
    "collapsed": false
   },
   "outputs": [],
   "source": []
  },
  {
   "cell_type": "code",
   "execution_count": null,
   "metadata": {
    "collapsed": false
   },
   "outputs": [],
   "source": []
  },
  {
   "cell_type": "code",
   "execution_count": null,
   "metadata": {
    "collapsed": false,
    "scrolled": true,
    "slideshow": {
     "slide_type": "skip"
    }
   },
   "outputs": [],
   "source": []
  },
  {
   "cell_type": "code",
   "execution_count": null,
   "metadata": {
    "collapsed": false
   },
   "outputs": [],
   "source": []
  },
  {
   "cell_type": "code",
   "execution_count": null,
   "metadata": {
    "collapsed": false
   },
   "outputs": [],
   "source": []
  },
  {
   "cell_type": "code",
   "execution_count": null,
   "metadata": {
    "collapsed": false
   },
   "outputs": [],
   "source": []
  },
  {
   "cell_type": "code",
   "execution_count": null,
   "metadata": {
    "collapsed": true
   },
   "outputs": [],
   "source": []
  },
  {
   "cell_type": "code",
   "execution_count": null,
   "metadata": {
    "collapsed": true
   },
   "outputs": [],
   "source": []
  }
 ],
 "metadata": {
  "anaconda-cloud": {},
  "kernelspec": {
   "display_name": "Python [Root]",
   "language": "python",
   "name": "Python [Root]"
  },
  "language_info": {
   "codemirror_mode": {
    "name": "ipython",
    "version": 3
   },
   "file_extension": ".py",
   "mimetype": "text/x-python",
   "name": "python",
   "nbconvert_exporter": "python",
   "pygments_lexer": "ipython3",
   "version": "3.5.2"
  }
 },
 "nbformat": 4,
 "nbformat_minor": 0
}
